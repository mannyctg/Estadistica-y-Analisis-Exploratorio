{
 "cells": [
  {
   "cell_type": "markdown",
   "id": "3ecf1b85",
   "metadata": {},
   "source": [
    "Trabajo 2 <br>\n",
    "La base de datos con la que le corresponde trabajar, se obtiene como una muestra\n",
    "aleatoria que corresponde a corresponde a los resultados obtenidos por los j ́ovenes de\n",
    "todo el pa ́ıs en las pruebas Saber 11, del a ̃no 2022. La informaci ́on aparece agregada\n",
    "por Colegio y solo abarca los colegios de Antioquia. Dicha base contiene las variables:\n",
    "NATURALEZA (Colegio Oficial o No-Oficial), JORNADA (Asociado a los diferentes\n",
    "tipos de jornada de estudio), PROMLECT (Promedio obtenido por el colegio en Lectura\n",
    "Cr ́ıtica) y PROMMATE (Promedio obtenido por el colegio en Matem ́aticas).\n",
    "\n",
    "1. Construir en Python un IC para al 95 % de confianza necesario para responder:\n",
    "¿Puede afirmarse que el resultado medio obtenido por los colegios en Matem ́aticas\n",
    "es superior a 75 puntos? asuma normalidad, justifique su respuesta.\n",
    "\n",
    "2. ¿Se puede afirmar que el resultado medio obtenido por los colegios en Lectura Cr ́ıti-\n",
    "ca es menor en los colegios Privados que en los P ́ublicos? Construir en Python un IC para al 95 % de confianza sin asumir normalidad, justifique su respuesta.\n",
    "\n",
    "3. Construir en Python un IC para al 94 % de confianza necesario para responder:\n",
    "¿Puede afirmarse que la proporci ́on de colegios de jornada completa es m ́aximo del\n",
    "40 %? No asuma normalidad, justifique su respuesta.\n",
    "\n",
    "4. ¿Se puede afirmar que el resultado medio obtenido por los colegios en Matem ́aticas es mayor en los colegios de jornada completa que los que prestan servicio en jornadas diferentes? Construir en Python un IC para al 93 % de confianza asumiendo normalidad de las variables involucradas, justifique su respuesta."
   ]
  },
  {
   "cell_type": "code",
   "execution_count": 2,
   "id": "0e7bdf20",
   "metadata": {},
   "outputs": [],
   "source": [
    "from scipy.stats import f\n",
    "from scipy.stats import norm\n",
    "from scipy.stats import t\n",
    "from scipy.stats import shapiro\n",
    "import pandas as pd\n",
    "import numpy as np"
   ]
  },
  {
   "cell_type": "code",
   "execution_count": 3,
   "id": "5342b8a2",
   "metadata": {},
   "outputs": [
    {
     "data": {
      "application/vnd.microsoft.datawrangler.viewer.v0+json": {
       "columns": [
        {
         "name": "index",
         "rawType": "object",
         "type": "string"
        },
        {
         "name": "PROMLECT",
         "rawType": "float64",
         "type": "float"
        },
        {
         "name": "PROMMATE",
         "rawType": "float64",
         "type": "float"
        }
       ],
       "ref": "bd58987d-9fa0-4692-b0e9-b1becff7c82d",
       "rows": [
        [
         "count",
         "1807.0",
         "1807.0"
        ],
        [
         "mean",
         "50.32152739346984",
         "47.105146651909244"
        ],
        [
         "std",
         "7.028032486668104",
         "7.897110442577632"
        ],
        [
         "min",
         "0.0",
         "18.0"
        ],
        [
         "25%",
         "45.0",
         "41.0"
        ],
        [
         "50%",
         "50.0",
         "47.0"
        ],
        [
         "75%",
         "55.0",
         "52.0"
        ],
        [
         "max",
         "74.0",
         "76.0"
        ]
       ],
       "shape": {
        "columns": 2,
        "rows": 8
       }
      },
      "text/html": [
       "<div>\n",
       "<style scoped>\n",
       "    .dataframe tbody tr th:only-of-type {\n",
       "        vertical-align: middle;\n",
       "    }\n",
       "\n",
       "    .dataframe tbody tr th {\n",
       "        vertical-align: top;\n",
       "    }\n",
       "\n",
       "    .dataframe thead th {\n",
       "        text-align: right;\n",
       "    }\n",
       "</style>\n",
       "<table border=\"1\" class=\"dataframe\">\n",
       "  <thead>\n",
       "    <tr style=\"text-align: right;\">\n",
       "      <th></th>\n",
       "      <th>PROMLECT</th>\n",
       "      <th>PROMMATE</th>\n",
       "    </tr>\n",
       "  </thead>\n",
       "  <tbody>\n",
       "    <tr>\n",
       "      <th>count</th>\n",
       "      <td>1807.000000</td>\n",
       "      <td>1807.000000</td>\n",
       "    </tr>\n",
       "    <tr>\n",
       "      <th>mean</th>\n",
       "      <td>50.321527</td>\n",
       "      <td>47.105147</td>\n",
       "    </tr>\n",
       "    <tr>\n",
       "      <th>std</th>\n",
       "      <td>7.028032</td>\n",
       "      <td>7.897110</td>\n",
       "    </tr>\n",
       "    <tr>\n",
       "      <th>min</th>\n",
       "      <td>0.000000</td>\n",
       "      <td>18.000000</td>\n",
       "    </tr>\n",
       "    <tr>\n",
       "      <th>25%</th>\n",
       "      <td>45.000000</td>\n",
       "      <td>41.000000</td>\n",
       "    </tr>\n",
       "    <tr>\n",
       "      <th>50%</th>\n",
       "      <td>50.000000</td>\n",
       "      <td>47.000000</td>\n",
       "    </tr>\n",
       "    <tr>\n",
       "      <th>75%</th>\n",
       "      <td>55.000000</td>\n",
       "      <td>52.000000</td>\n",
       "    </tr>\n",
       "    <tr>\n",
       "      <th>max</th>\n",
       "      <td>74.000000</td>\n",
       "      <td>76.000000</td>\n",
       "    </tr>\n",
       "  </tbody>\n",
       "</table>\n",
       "</div>"
      ],
      "text/plain": [
       "          PROMLECT     PROMMATE\n",
       "count  1807.000000  1807.000000\n",
       "mean     50.321527    47.105147\n",
       "std       7.028032     7.897110\n",
       "min       0.000000    18.000000\n",
       "25%      45.000000    41.000000\n",
       "50%      50.000000    47.000000\n",
       "75%      55.000000    52.000000\n",
       "max      74.000000    76.000000"
      ]
     },
     "execution_count": 3,
     "metadata": {},
     "output_type": "execute_result"
    }
   ],
   "source": [
    "data_set = pd.read_csv('DatosTrabajo2EAE20242.txt', sep=',')\n",
    "data_set.describe()"
   ]
  },
  {
   "cell_type": "markdown",
   "id": "f40126cc",
   "metadata": {},
   "source": [
    "Punto 1"
   ]
  },
  {
   "cell_type": "code",
   "execution_count": 4,
   "id": "e68bef37",
   "metadata": {},
   "outputs": [
    {
     "name": "stdout",
     "output_type": "stream",
     "text": [
      "(np.float64(46.74078859201748), np.float64(47.46950471180101))\n"
     ]
    }
   ],
   "source": [
    "n = data_set['PROMMATE'].count()\n",
    "x_bar = data_set['PROMMATE'].mean()\n",
    "s = data_set['PROMMATE'].std()\n",
    "confianza = 0.95\n",
    "alpha = 1 - confianza\n",
    "df = n - 1\n",
    "\n",
    "se = s / np.sqrt(n)\n",
    "\n",
    "print(t.interval(confianza, df, loc=x_bar, scale =se))\n"
   ]
  },
  {
   "cell_type": "markdown",
   "id": "6a635288",
   "metadata": {},
   "source": [
    "Punto 2"
   ]
  },
  {
   "cell_type": "code",
   "execution_count": 5,
   "id": "b7270f58",
   "metadata": {},
   "outputs": [],
   "source": [
    "colegios_publicos = data_set[data_set['NATURALEZA'] == 'OFICIAL']['PROMLECT']\n",
    "colegios_privados = data_set[data_set['NATURALEZA'] == 'NO OFICIAL']['PROMLECT']"
   ]
  },
  {
   "cell_type": "code",
   "execution_count": 6,
   "id": "32373757",
   "metadata": {},
   "outputs": [
    {
     "name": "stdout",
     "output_type": "stream",
     "text": [
      "Estadístico = 0.9654474934647048 , p-valor = 3.1235580886185725e-07\n",
      "Los datos NO son normales (se rechaza H₀)\n"
     ]
    }
   ],
   "source": [
    "stat, p = shapiro(colegios_privados)\n",
    "print(\"Estadístico =\", stat, \", p-valor =\", p)\n",
    "\n",
    "if p > 0.05:\n",
    "    print(\"Los datos parecen normales (no se rechaza H₀)\")\n",
    "else:\n",
    "    print(\"Los datos NO son normales (se rechaza H₀)\")"
   ]
  },
  {
   "cell_type": "code",
   "execution_count": 7,
   "id": "7fc30a08",
   "metadata": {},
   "outputs": [
    {
     "name": "stdout",
     "output_type": "stream",
     "text": [
      "(np.float64(5.77819299796066), np.float64(7.56980042480282))\n"
     ]
    }
   ],
   "source": [
    "x_bar1 = colegios_privados.mean()\n",
    "x_bar2 = colegios_publicos.mean()\n",
    "diff = x_bar1 - x_bar2\n",
    "s1 = colegios_privados.std()    \n",
    "s2 = colegios_publicos.std()\n",
    "n1 = colegios_privados.count()\n",
    "n2 = colegios_publicos.count()\n",
    "\n",
    "z2 = norm.ppf(1-alpha/2)\n",
    "\n",
    "se2 = np.sqrt((s1**2/n1) + (s2**2)/n2)\n",
    "\n",
    "print((diff - z2 * se2, diff + z2 * se2))"
   ]
  },
  {
   "cell_type": "markdown",
   "id": "2cec4085",
   "metadata": {},
   "source": [
    "Punto 3"
   ]
  },
  {
   "cell_type": "code",
   "execution_count": 8,
   "id": "56ca242f",
   "metadata": {},
   "outputs": [
    {
     "name": "stdout",
     "output_type": "stream",
     "text": [
      "(np.float64(0.36309010968056776), np.float64(0.4061406595502015))\n"
     ]
    }
   ],
   "source": [
    "confidence = 0.94\n",
    "alpha3 = 1 - confidence\n",
    "colegios_jornada_completa = data_set[data_set['JORNADA'] == 'COMPLETA']\n",
    "x = colegios_jornada_completa['JORNADA'].count()\n",
    "p = x / n\n",
    "\n",
    "z3 = norm.ppf(1 - alpha3/2)\n",
    "se3 = np.sqrt((p * (1 - p)) / n)\n",
    "\n",
    "print((p - z3 * se3, p + z3 * se3))"
   ]
  },
  {
   "cell_type": "markdown",
   "id": "ebe04640",
   "metadata": {},
   "source": [
    "Punto 4"
   ]
  },
  {
   "cell_type": "code",
   "execution_count": null,
   "id": "a76f261b",
   "metadata": {},
   "outputs": [
    {
     "name": "stdout",
     "output_type": "stream",
     "text": [
      "Limite inferior: 1.6499, Limite superior: 2.1145, Cociente de la varianza es: 1.8696\n",
      "(np.float64(0.10187098354158375), np.float64(1.585898800631075))\n"
     ]
    }
   ],
   "source": [
    "conf3 = 0.93\n",
    "alpha4 = 1 - conf3\n",
    "\n",
    "colegios_de_jornada_dif = data_set[data_set['JORNADA'] != 'COMPLETA']\n",
    "x1 = colegios_jornada_completa['PROMMATE'].mean()\n",
    "x2 = colegios_de_jornada_dif['PROMMATE'].mean()\n",
    "diff2 = x1 - x2\n",
    "n_1 = colegios_jornada_completa['PROMMATE'].count()\n",
    "n_2 = colegios_de_jornada_dif['PROMMATE'].count()\n",
    "\n",
    "var1 = colegios_jornada_completa['PROMMATE'].var()\n",
    "var2 = colegios_de_jornada_dif['PROMMATE'].var()\n",
    "\n",
    "v_degrees = ((var1/n_1 + var2/n_2)**2) / ((var1/n_1)**2/(n_1 - 1) + (var2/n_2)**2/(n_2 - 1))\n",
    "\n",
    "t_crit = t.ppf(1 - alpha4/2, v_degrees)\n",
    "\n",
    "cociente_var = var1 / var2\n",
    "\n",
    "F_lower = f.ppf(alpha4 / 2, n_1 - 1, n_2 - 1)\n",
    "F_upper = f.ppf(1 - alpha4 / 2, n_1 - 1, n_2 - 1)\n",
    "\n",
    "limit_inf = cociente_var * F_lower \n",
    "\n",
    "limit_sup = cociente_var * F_upper\n",
    "\n",
    "print(f'Limite inferior: {limit_inf:.4f}, Limite superior: {limit_sup:.4f}, Cociente de la varianza es: {cociente_var:.4f}') \n",
    "\n",
    "se4 = np.sqrt((var1/n_1) + (var2/n_2))\n",
    "\n",
    "print((diff2 - t_crit * se4, diff2 + t_crit * se4))\n"
   ]
  }
 ],
 "metadata": {
  "kernelspec": {
   "display_name": "Python 3",
   "language": "python",
   "name": "python3"
  },
  "language_info": {
   "codemirror_mode": {
    "name": "ipython",
    "version": 3
   },
   "file_extension": ".py",
   "mimetype": "text/x-python",
   "name": "python",
   "nbconvert_exporter": "python",
   "pygments_lexer": "ipython3",
   "version": "3.11.9"
  }
 },
 "nbformat": 4,
 "nbformat_minor": 5
}
