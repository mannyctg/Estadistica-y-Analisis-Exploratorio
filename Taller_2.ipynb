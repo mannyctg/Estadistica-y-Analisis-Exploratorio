{
 "cells": [
  {
   "cell_type": "markdown",
   "id": "3ecf1b85",
   "metadata": {},
   "source": [
    "Trabajo 2 <br>\n",
    "La base de datos con la que le corresponde trabajar, se obtiene como una muestra\n",
    "aleatoria que corresponde a corresponde a los resultados obtenidos por los j ́ovenes de\n",
    "todo el pa ́ıs en las pruebas Saber 11, del a ̃no 2022. La informaci ́on aparece agregada\n",
    "por Colegio y solo abarca los colegios de Antioquia. Dicha base contiene las variables:\n",
    "NATURALEZA (Colegio Oficial o No-Oficial), JORNADA (Asociado a los diferentes\n",
    "tipos de jornada de estudio), PROMLECT (Promedio obtenido por el colegio en Lectura\n",
    "Cr ́ıtica) y PROMMATE (Promedio obtenido por el colegio en Matem ́aticas).\n",
    "\n",
    "1. Construir en Python un IC para al 95 % de confianza necesario para responder:\n",
    "¿Puede afirmarse que el resultado medio obtenido por los colegios en Matem ́aticas\n",
    "es superior a 75 puntos? asuma normalidad, justifique su respuesta.\n",
    "\n",
    "2. ¿Se puede afirmar que el resultado medio obtenido por los colegios en Lectura Cr ́ıti-\n",
    "ca es menor en los colegios Privados que en los P ́ublicos? Construir en Python un IC para al 95 % de confianza sin asumir normalidad, justifique su respuesta.\n",
    "\n",
    "3. Construir en Python un IC para al 94 % de confianza necesario para responder:\n",
    "¿Puede afirmarse que la proporci ́on de colegios de jornada completa es m ́aximo del\n",
    "40 %? No asuma normalidad, justifique su respuesta.\n",
    "\n",
    "4. ¿Se puede afirmar que el resultado medio obtenido por los colegios en Matem ́aticas es mayor en los colegios de jornada completa que los que prestan servicio en jornadas diferentes? Construir en Python un IC para al 93 % de confianza asumiendo normalidad de las variables involucradas, justifique su respuesta."
   ]
  },
  {
   "cell_type": "code",
   "execution_count": 1,
   "id": "0e7bdf20",
   "metadata": {},
   "outputs": [],
   "source": [
    "from scipy.stats import f\n",
    "from scipy.stats import uniform\n",
    "from scipy.stats import binom\n",
    "from scipy.stats import norm\n",
    "from scipy.stats import expon\n",
    "from scipy.stats import t\n",
    "from scipy.stats import hypergeom, bernoulli, poisson\n",
    "import pandas as pd\n",
    "import numpy as np"
   ]
  },
  {
   "cell_type": "code",
   "execution_count": 5,
   "id": "5342b8a2",
   "metadata": {},
   "outputs": [
    {
     "data": {
      "application/vnd.microsoft.datawrangler.viewer.v0+json": {
       "columns": [
        {
         "name": "index",
         "rawType": "object",
         "type": "string"
        },
        {
         "name": "PROMLECT",
         "rawType": "float64",
         "type": "float"
        },
        {
         "name": "PROMMATE",
         "rawType": "float64",
         "type": "float"
        }
       ],
       "ref": "cba9e06a-f2ee-421e-a6d9-de49195bf94c",
       "rows": [
        [
         "count",
         "1807.0",
         "1807.0"
        ],
        [
         "mean",
         "50.32152739346984",
         "47.105146651909244"
        ],
        [
         "std",
         "7.028032486668104",
         "7.897110442577632"
        ],
        [
         "min",
         "0.0",
         "18.0"
        ],
        [
         "25%",
         "45.0",
         "41.0"
        ],
        [
         "50%",
         "50.0",
         "47.0"
        ],
        [
         "75%",
         "55.0",
         "52.0"
        ],
        [
         "max",
         "74.0",
         "76.0"
        ]
       ],
       "shape": {
        "columns": 2,
        "rows": 8
       }
      },
      "text/html": [
       "<div>\n",
       "<style scoped>\n",
       "    .dataframe tbody tr th:only-of-type {\n",
       "        vertical-align: middle;\n",
       "    }\n",
       "\n",
       "    .dataframe tbody tr th {\n",
       "        vertical-align: top;\n",
       "    }\n",
       "\n",
       "    .dataframe thead th {\n",
       "        text-align: right;\n",
       "    }\n",
       "</style>\n",
       "<table border=\"1\" class=\"dataframe\">\n",
       "  <thead>\n",
       "    <tr style=\"text-align: right;\">\n",
       "      <th></th>\n",
       "      <th>PROMLECT</th>\n",
       "      <th>PROMMATE</th>\n",
       "    </tr>\n",
       "  </thead>\n",
       "  <tbody>\n",
       "    <tr>\n",
       "      <th>count</th>\n",
       "      <td>1807.000000</td>\n",
       "      <td>1807.000000</td>\n",
       "    </tr>\n",
       "    <tr>\n",
       "      <th>mean</th>\n",
       "      <td>50.321527</td>\n",
       "      <td>47.105147</td>\n",
       "    </tr>\n",
       "    <tr>\n",
       "      <th>std</th>\n",
       "      <td>7.028032</td>\n",
       "      <td>7.897110</td>\n",
       "    </tr>\n",
       "    <tr>\n",
       "      <th>min</th>\n",
       "      <td>0.000000</td>\n",
       "      <td>18.000000</td>\n",
       "    </tr>\n",
       "    <tr>\n",
       "      <th>25%</th>\n",
       "      <td>45.000000</td>\n",
       "      <td>41.000000</td>\n",
       "    </tr>\n",
       "    <tr>\n",
       "      <th>50%</th>\n",
       "      <td>50.000000</td>\n",
       "      <td>47.000000</td>\n",
       "    </tr>\n",
       "    <tr>\n",
       "      <th>75%</th>\n",
       "      <td>55.000000</td>\n",
       "      <td>52.000000</td>\n",
       "    </tr>\n",
       "    <tr>\n",
       "      <th>max</th>\n",
       "      <td>74.000000</td>\n",
       "      <td>76.000000</td>\n",
       "    </tr>\n",
       "  </tbody>\n",
       "</table>\n",
       "</div>"
      ],
      "text/plain": [
       "          PROMLECT     PROMMATE\n",
       "count  1807.000000  1807.000000\n",
       "mean     50.321527    47.105147\n",
       "std       7.028032     7.897110\n",
       "min       0.000000    18.000000\n",
       "25%      45.000000    41.000000\n",
       "50%      50.000000    47.000000\n",
       "75%      55.000000    52.000000\n",
       "max      74.000000    76.000000"
      ]
     },
     "execution_count": 5,
     "metadata": {},
     "output_type": "execute_result"
    }
   ],
   "source": [
    "data_set = pd.read_csv('DatosTrabajo2EAE20242.txt', sep=',')\n",
    "data_set.describe()"
   ]
  },
  {
   "cell_type": "code",
   "execution_count": null,
   "id": "e68bef37",
   "metadata": {},
   "outputs": [],
   "source": [
    "n = 1807\n"
   ]
  }
 ],
 "metadata": {
  "kernelspec": {
   "display_name": "Python 3",
   "language": "python",
   "name": "python3"
  },
  "language_info": {
   "codemirror_mode": {
    "name": "ipython",
    "version": 3
   },
   "file_extension": ".py",
   "mimetype": "text/x-python",
   "name": "python",
   "nbconvert_exporter": "python",
   "pygments_lexer": "ipython3",
   "version": "3.11.9"
  }
 },
 "nbformat": 4,
 "nbformat_minor": 5
}
