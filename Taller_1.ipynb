{
 "cells": [
  {
   "cell_type": "markdown",
   "id": "7b11da07",
   "metadata": {},
   "source": [
    "### Problema 1: \n",
    "Een una comunidad por cada hombre hay dos mujeres. En esta comunidad\n",
    "el 10 % de los hombres fuman y el 5 % de las mujeres fuman. Si se escoge al azar una\n",
    "persona y es fumadora, la probabilidad de que sea mujer es?"
   ]
  },
  {
   "cell_type": "code",
   "execution_count": 16,
   "id": "674a1989",
   "metadata": {},
   "outputs": [
    {
     "name": "stdout",
     "output_type": "stream",
     "text": [
      "Probabilidad de escoger al azar una persona fumadora y sea mujer es de: 0.5\n"
     ]
    }
   ],
   "source": [
    "# Planteamiento\n",
    "\n",
    "prob_men = 1/3     # Probabilidad de ser hombre\n",
    "prob_women = 2/3     # Probabilidad de ser mujer\n",
    "\n",
    "prob_F_dado_H = 0.10  # Probabilidad de fumar dado que es hombre\n",
    "prob_F_dado_M = 0.05  # Probabilidad de fumar dado que es mujer\n",
    "\n",
    "# Probabilidad total de fumar \n",
    "prob_F = prob_F_dado_H * prob_men + prob_F_dado_M * prob_women\n",
    "\n",
    "# Solucion utilizando el Teorema de Bayes: P ( Mujer | Fumador )\n",
    "prob_M_dado_F = (prob_F_dado_M * prob_women) / prob_F\n",
    "\n",
    "print('Probabilidad de escoger al azar una persona fumadora y sea mujer es de:', prob_M_dado_F)"
   ]
  },
  {
   "cell_type": "markdown",
   "id": "ce05ec42",
   "metadata": {},
   "source": [
    "### Problema 2:\n",
    "\n",
    "Un vendedor descubre que la probabilidad de hacer una venta en una sola\n",
    "entrevista con clientes es de 2 % aproximadamente. Si se acerca a 300 posibles clientes, la\n",
    "probabilidad de hacer por lo menos dos ventas es?"
   ]
  },
  {
   "cell_type": "code",
   "execution_count": 17,
   "id": "b00026d3",
   "metadata": {},
   "outputs": [
    {
     "name": "stdout",
     "output_type": "stream",
     "text": [
      "Probabilidad de hacer al menos 2 ventas con pmf: 0.9833868473854073\n",
      "Probabilidad de hacer al menos 2 ventas con cdf: 0.9833868473854074\n"
     ]
    }
   ],
   "source": [
    "from scipy.stats import binom\n",
    "\n",
    "# Planteamiento y parámetros ( utilizaremos la distribucion binomial para este problema )\n",
    "\n",
    "n = 300      # número de clientes\n",
    "p = 0.02     # probabilidad de éxito (hacer una venta)\n",
    "\n",
    "# Solucion utilizando tanto PMF como CDF para llegar a saber la probabilidad de hacer por lo menos dos ventas si hace 300 entrevistas\n",
    "\n",
    "# Probabilidad de X >= 2\n",
    "\n",
    "# Usando PMF seria: 1 - [P(X=0) + P(X=1)]\n",
    "\n",
    "prob_pmf = 1 - (binom.pmf(0, n, p) + binom.pmf(1, n, p))\n",
    "\n",
    "# Usando CDF seria: 1 - P(X <= 1)  \n",
    "\n",
    "prob_cdf = 1 - binom.cdf(1, n, p)\n",
    "\n",
    "print(\"Probabilidad de hacer al menos 2 ventas con pmf:\", prob_pmf)\n",
    "print(\"Probabilidad de hacer al menos 2 ventas con cdf:\", prob_cdf)"
   ]
  },
  {
   "cell_type": "markdown",
   "id": "313a477d",
   "metadata": {},
   "source": [
    "### Problema 3:\n",
    "\n",
    "Tres maquinas denominadas A, B y C, producen un 40 %, 40 % y 20 %\n",
    "de la produccion total de una empresa respectivamente. Se ha detectado que un 8 %, 2 %\n",
    "y 3 % del producto manufacturado por estas maquinas es defectuoso. Se selecciona un \n",
    "producto al azar, si el producto seleccionado resulta que es defectuoso, ¿Cu ́al es la pro-\n",
    "babilidad de que haya sido fabricado en la maquina A?"
   ]
  },
  {
   "cell_type": "code",
   "execution_count": 18,
   "id": "55a1bdea",
   "metadata": {},
   "outputs": [
    {
     "name": "stdout",
     "output_type": "stream",
     "text": [
      "P(A|D) = 0.695652, en porcentaje seria: (69.57%)\n"
     ]
    }
   ],
   "source": [
    "# Planteamiento\n",
    "\n",
    "# Probabilidades de producción por maquina\n",
    "prob_A = 0.40\n",
    "prob_B = 0.40\n",
    "prob_C = 0.20\n",
    "\n",
    "# Probabilidades de defectuosos\n",
    "prob_D_dado_A = 0.08\n",
    "prob_D_dado_B = 0.02\n",
    "prob_D_dado_C = 0.03\n",
    "\n",
    "# Solucion utilizando el Teorema de Bayes\n",
    "\n",
    "# Probabilidad total de que el producto manufacturado por estas maquinas sea defectuoso\n",
    "prob_D = (prob_A * prob_D_dado_A) + (prob_B * prob_D_dado_B) + (prob_C * prob_D_dado_C)\n",
    "\n",
    "#\n",
    "prob_A_dado_D = (prob_A * prob_D_dado_A) / prob_D\n",
    "\n",
    "\n",
    "print(f'P(A|D) = {prob_A_dado_D:6f}, en porcentaje seria: ({prob_A_dado_D*100:.2f}%)')\n"
   ]
  }
 ],
 "metadata": {
  "kernelspec": {
   "display_name": "Python 3",
   "language": "python",
   "name": "python3"
  },
  "language_info": {
   "codemirror_mode": {
    "name": "ipython",
    "version": 3
   },
   "file_extension": ".py",
   "mimetype": "text/x-python",
   "name": "python",
   "nbconvert_exporter": "python",
   "pygments_lexer": "ipython3",
   "version": "3.11.9"
  }
 },
 "nbformat": 4,
 "nbformat_minor": 5
}
